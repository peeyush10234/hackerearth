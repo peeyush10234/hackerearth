{
 "cells": [
  {
   "cell_type": "code",
   "execution_count": 1,
   "metadata": {
    "collapsed": true
   },
   "outputs": [],
   "source": [
    "import numpy as np \n",
    "import pandas as pd \n",
    "from matplotlib import pyplot as plt \n",
    "%matplotlib inline "
   ]
  },
  {
   "cell_type": "code",
   "execution_count": 2,
   "metadata": {
    "collapsed": true
   },
   "outputs": [],
   "source": [
    "data = pd.read_csv('/home/salvation/train_indessa.csv')"
   ]
  },
  {
   "cell_type": "code",
   "execution_count": 8,
   "metadata": {
    "collapsed": false
   },
   "outputs": [
    {
     "name": "stdout",
     "output_type": "stream",
     "text": [
      "Index([u'member_id', u'loan_amnt', u'funded_amnt', u'funded_amnt_inv', u'term',\n",
      "       u'batch_enrolled', u'int_rate', u'grade', u'sub_grade', u'emp_title',\n",
      "       u'emp_length', u'home_ownership', u'annual_inc', u'verification_status',\n",
      "       u'pymnt_plan', u'desc', u'purpose', u'title', u'zip_code',\n",
      "       u'addr_state', u'dti', u'delinq_2yrs', u'inq_last_6mths',\n",
      "       u'mths_since_last_delinq', u'mths_since_last_record', u'open_acc',\n",
      "       u'pub_rec', u'revol_bal', u'revol_util', u'total_acc',\n",
      "       u'initial_list_status', u'total_rec_int', u'total_rec_late_fee',\n",
      "       u'recoveries', u'collection_recovery_fee',\n",
      "       u'collections_12_mths_ex_med', u'mths_since_last_major_derog',\n",
      "       u'application_type', u'verification_status_joint', u'last_week_pay',\n",
      "       u'acc_now_delinq', u'tot_coll_amt', u'tot_cur_bal', u'total_rev_hi_lim',\n",
      "       u'loan_status'],\n",
      "      dtype='object')\n"
     ]
    }
   ],
   "source": [
    "ds = data.values\n",
    "print data.columns\n"
   ]
  },
  {
   "cell_type": "code",
   "execution_count": null,
   "metadata": {
    "collapsed": false
   },
   "outputs": [],
   "source": [
    "arr1 = np.asarray([data['loan_amnt']])\n",
    "arr2 = np.asarray([data['loan_status']])\n",
    "\n",
    "plt.plot(arr2[:100],arr1[:100])"
   ]
  },
  {
   "cell_type": "code",
   "execution_count": null,
   "metadata": {
    "collapsed": true
   },
   "outputs": [],
   "source": []
  }
 ],
 "metadata": {
  "kernelspec": {
   "display_name": "Python 2",
   "language": "python",
   "name": "python2"
  },
  "language_info": {
   "codemirror_mode": {
    "name": "ipython",
    "version": 2
   },
   "file_extension": ".py",
   "mimetype": "text/x-python",
   "name": "python",
   "nbconvert_exporter": "python",
   "pygments_lexer": "ipython2",
   "version": "2.7.12"
  }
 },
 "nbformat": 4,
 "nbformat_minor": 2
}
